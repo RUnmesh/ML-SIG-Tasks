{
 "cells": [
  {
   "cell_type": "markdown",
   "metadata": {},
   "source": [
    "# Question 1:\n",
    "### Make a 9x9 numpy array filled with the repeating pattern 1,2,3,1,2,3,..."
   ]
  },
  {
   "cell_type": "code",
   "execution_count": 1,
   "metadata": {},
   "outputs": [
    {
     "name": "stdout",
     "output_type": "stream",
     "text": [
      "[[1 2 3 1 2 3 1 2 3]\n",
      " [1 2 3 1 2 3 1 2 3]\n",
      " [1 2 3 1 2 3 1 2 3]\n",
      " [1 2 3 1 2 3 1 2 3]\n",
      " [1 2 3 1 2 3 1 2 3]\n",
      " [1 2 3 1 2 3 1 2 3]\n",
      " [1 2 3 1 2 3 1 2 3]\n",
      " [1 2 3 1 2 3 1 2 3]\n",
      " [1 2 3 1 2 3 1 2 3]]\n"
     ]
    }
   ],
   "source": [
    "import numpy as np\n",
    "print(np.tile([1,2,3] , 27).reshape((9,9)))"
   ]
  },
  {
   "cell_type": "markdown",
   "metadata": {},
   "source": [
    "# Question 2:\n",
    "### Write a function that performs min-max scaling on a numpy array across rows \n",
    "\n",
    "## Example:\n",
    "\n",
    "### Input \n",
    "$\\begin{bmatrix}1& 2& 3\\\\10 & 15 & 20 \\\\ -5 & -11&  9\\end{bmatrix}$\n",
    "    \n",
    "### Output\n",
    "$\\begin{bmatrix} 0 & 0.5 & 1 \\\\ 0 & 0.5 & 1 \\\\ 0.3 & 0 & 1 \\end{bmatrix}$\n"
   ]
  },
  {
   "cell_type": "code",
   "execution_count": 2,
   "metadata": {},
   "outputs": [
    {
     "name": "stdout",
     "output_type": "stream",
     "text": [
      "[[0.  0.5 1. ]\n",
      " [0.  0.5 1. ]\n",
      " [0.3 0.  1. ]]\n"
     ]
    }
   ],
   "source": [
    "import numpy as np\n",
    "\n",
    "a = np.array([[1,2,3] , [10,15,20] , [-5 , -11 , 9]] , dtype=np.float)\n",
    "mins = np.min(a , axis = 1)\n",
    "maxs = np.max(a , axis = 1)\n",
    "\n",
    "for i in range(a.shape[0]) :\n",
    "    a[i] = (a[i]-mins[i])/(maxs[i]-mins[i])\n",
    "\n",
    "print(a)"
   ]
  },
  {
   "cell_type": "code",
   "execution_count": 3,
   "metadata": {},
   "outputs": [
    {
     "name": "stdout",
     "output_type": "stream",
     "text": [
      "[[0.  0.5 1. ]\n",
      " [0.  0.5 1. ]\n",
      " [0.3 0.  1. ]]\n"
     ]
    }
   ],
   "source": [
    "import numpy as np\n",
    "\n",
    "a = np.array([[1,2,3] , [10,15,20] , [-5 , -11 , 9]])\n",
    "\n",
    "mins = np.min(a , axis = 1).reshape(-1,1)\n",
    "diff = (np.max(a,axis=1) - np.min(a,axis=1)).reshape(-1,1)\n",
    "print((a-mins)/diff)"
   ]
  },
  {
   "cell_type": "markdown",
   "metadata": {},
   "source": [
    "# Question 3:\n",
    "### Find index of the element of the array which is closest to a given value\n",
    "\n",
    "## Example:\n",
    "\n",
    "### Input \n",
    "$\\begin{bmatrix}4.5& -5& 83\\\\5.11 & 5.25 & 20 \\\\ -5 & 42&  69.99\\end{bmatrix}$\n",
    "    \n",
    "val = 5\n",
    "\n",
    "### Output\n",
    "\n",
    "index = (1, 0)\n"
   ]
  },
  {
   "cell_type": "code",
   "execution_count": 4,
   "metadata": {},
   "outputs": [
    {
     "name": "stdout",
     "output_type": "stream",
     "text": [
      "(1, 0)\n"
     ]
    }
   ],
   "source": [
    "import numpy as np\n",
    "import math\n",
    "\n",
    "a = np.array([[4.5,-5,83] , [5.11,5.25,20] , [-5,42,69.99]] , dtype=np.float )\n",
    "val = 5\n",
    "\n",
    "mins = math.inf;\n",
    "pos=0;\n",
    "minpos = 0;\n",
    "\n",
    "for x in np.nditer(a):\n",
    "    if abs(x-val) < mins :\n",
    "        mins = abs(x-val)\n",
    "        minpos = pos\n",
    "    pos += 1;\n",
    "    \n",
    "print(np.unravel_index(minpos,a.shape))"
   ]
  },
  {
   "cell_type": "code",
   "execution_count": 5,
   "metadata": {},
   "outputs": [
    {
     "name": "stdout",
     "output_type": "stream",
     "text": [
      "(1, 0)\n"
     ]
    }
   ],
   "source": [
    "import numpy as np\n",
    "\n",
    "a = np.array([[4.5,-5,83] , [5.11,5.25,20] , [-5,42,69.99]] , dtype=np.float )\n",
    "val = 5\n",
    "\n",
    "print(np.unravel_index(np.argmin(np.absolute(a-val)) , a.shape))"
   ]
  },
  {
   "cell_type": "markdown",
   "metadata": {},
   "source": [
    "# Question 4:\n",
    "### Implement A sliding window average of a given array\n",
    "\n",
    "Example: https://www.youtube.com/watch?v=ZoaEDbivmOE"
   ]
  },
  {
   "cell_type": "code",
   "execution_count": 6,
   "metadata": {},
   "outputs": [
    {
     "name": "stdout",
     "output_type": "stream",
     "text": [
      "[[19 83 94 21 42 72 20 86 88]\n",
      " [17 16 95 14  4 61  6  7 69]\n",
      " [33 81 91 82 34 57 52 13 43]\n",
      " [45 42 13 13 84 11 50 50 56]\n",
      " [12 22 83 39 64  1 87 93 51]\n",
      " [43 73 90 27 48 53 15 70 50]\n",
      " [29 82 12 38 53 91  4 49 41]\n",
      " [56 35 94 91 93  2  5 11 33]\n",
      " [31 52 24 41 72 18 66 73 15]]\n",
      "-----------------------------------------------\n",
      "[[32 57 57 47 38 37 47 52 74]\n",
      " [35 58 64 53 43 38 41 42 56]\n",
      " [36 48 49 47 40 39 34 38 45]\n",
      " [36 46 51 55 42 48 46 55 50]\n",
      " [37 47 44 51 37 45 47 58 58]\n",
      " [38 49 51 50 46 46 51 51 55]\n",
      " [49 57 60 60 55 40 33 30 42]\n",
      " [44 46 52 57 55 44 35 33 34]\n",
      " [41 44 50 61 49 45 36 39 31]]\n"
     ]
    }
   ],
   "source": [
    "import numpy as np\n",
    "\n",
    "a = np.random.randint(100 , size=(9,9))\n",
    "b = np.zeros_like(a)\n",
    "\n",
    "print(a)\n",
    "print(\"-----------------------------------------------\")\n",
    "\n",
    "a = np.pad(a , (1,1) , 'edge')\n",
    "\n",
    "for i in range(1,a.shape[0]-1) :\n",
    "    for j in range(1,a.shape[1]-1):\n",
    "        b[i-1,j-1] = np.average(a[ i-1 : i+2 , j-1 : j+2 ])\n",
    "        \n",
    "print(b)"
   ]
  },
  {
   "cell_type": "markdown",
   "metadata": {},
   "source": [
    "# (Optional) Question 5\n",
    "### Implement John Conway's Game of Life\n",
    "\n",
    "You can read about the rules of the game and play it at: https://bitstorm.org/gameoflife/"
   ]
  },
  {
   "cell_type": "code",
   "execution_count": 7,
   "metadata": {},
   "outputs": [
    {
     "name": "stdout",
     "output_type": "stream",
     "text": [
      "[[0 0 0 0 0 0 0 0 0 0 0 0]\n",
      " [0 1 0 1 1 0 0 1 1 0 0 0]\n",
      " [0 0 0 0 1 1 0 1 0 0 0 0]\n",
      " [0 1 1 0 0 0 1 1 1 0 1 0]\n",
      " [0 1 1 0 0 1 0 0 1 1 1 0]\n",
      " [0 0 0 1 1 1 0 0 0 1 0 0]\n",
      " [0 0 1 0 1 0 0 0 0 1 1 0]\n",
      " [0 0 1 1 1 1 0 0 1 0 0 0]\n",
      " [0 0 1 0 0 1 0 0 0 1 0 0]\n",
      " [0 0 0 0 1 1 0 1 1 1 0 0]\n",
      " [0 0 1 0 1 1 0 1 0 0 0 0]\n",
      " [0 0 0 0 0 0 0 0 0 0 0 0]]\n",
      "-----------------\n",
      "[[0 0 0 0 0 0 0 0 0 0 0 0]\n",
      " [0 0 0 1 1 1 1 1 1 0 0 0]\n",
      " [0 1 0 0 1 1 0 0 0 1 0 0]\n",
      " [0 1 1 1 1 0 0 0 0 0 1 0]\n",
      " [0 1 0 0 0 1 0 0 0 0 1 0]\n",
      " [0 1 0 0 0 1 0 0 0 0 0 0]\n",
      " [0 0 1 0 0 0 0 0 1 1 1 0]\n",
      " [0 1 1 0 0 1 0 0 1 0 1 0]\n",
      " [0 0 1 0 0 0 0 1 0 1 0 0]\n",
      " [0 0 0 0 0 0 0 1 0 1 0 0]\n",
      " [0 0 0 1 1 1 0 1 0 0 0 0]\n",
      " [0 0 0 0 0 0 0 0 0 0 0 0]]\n",
      "-----------------\n",
      "[[0 0 0 0 0 0 0 0 0 0 0 0]\n",
      " [0 0 0 1 0 0 1 1 1 0 0 0]\n",
      " [0 1 0 0 0 0 0 1 1 1 0 0]\n",
      " [0 1 0 1 0 0 0 0 0 1 1 0]\n",
      " [0 1 0 1 0 1 0 0 0 0 0 0]\n",
      " [0 1 1 0 0 0 0 0 0 0 1 0]\n",
      " [0 0 1 0 0 0 0 0 1 0 1 0]\n",
      " [0 1 1 1 0 0 0 1 0 0 1 0]\n",
      " [0 1 1 0 0 0 1 1 0 1 1 0]\n",
      " [0 0 0 1 1 0 0 1 0 0 0 0]\n",
      " [0 0 0 0 1 0 1 0 1 0 0 0]\n",
      " [0 0 0 0 0 0 0 0 0 0 0 0]]\n",
      "-----------------\n",
      "[[0 0 0 0 0 0 0 0 0 0 0 0]\n",
      " [0 0 0 0 0 0 1 0 0 1 0 0]\n",
      " [0 0 0 0 0 0 1 0 0 0 1 0]\n",
      " [0 1 0 0 1 0 0 0 0 1 1 0]\n",
      " [0 1 0 1 1 0 0 0 0 1 1 0]\n",
      " [0 1 0 1 0 0 0 0 0 1 0 0]\n",
      " [0 0 0 0 0 0 0 0 0 0 1 0]\n",
      " [0 0 0 1 0 0 1 1 0 0 1 0]\n",
      " [0 1 0 0 1 0 1 1 0 1 1 0]\n",
      " [0 0 1 1 1 0 0 0 0 1 0 0]\n",
      " [0 0 0 1 1 1 0 1 0 0 0 0]\n",
      " [0 0 0 0 0 0 0 0 0 0 0 0]]\n",
      "-----------------\n",
      "[[0 0 0 0 0 0 0 0 0 0 0 0]\n",
      " [0 0 0 0 0 0 0 0 0 0 0 0]\n",
      " [0 0 0 0 0 1 0 0 0 0 1 0]\n",
      " [0 0 1 1 1 1 0 0 0 0 0 0]\n",
      " [0 1 0 1 1 0 0 0 1 0 0 0]\n",
      " [0 0 0 1 1 0 0 0 0 1 0 0]\n",
      " [0 0 1 0 0 0 0 0 0 1 1 0]\n",
      " [0 0 0 0 0 1 1 1 1 0 1 0]\n",
      " [0 0 0 0 1 0 1 1 0 1 1 0]\n",
      " [0 0 1 0 0 0 0 1 0 1 1 0]\n",
      " [0 0 1 0 0 1 0 0 0 0 0 0]\n",
      " [0 0 0 0 0 0 0 0 0 0 0 0]]\n",
      "-----------------\n",
      "[[0 0 0 0 0 0 0 0 0 0 0 0]\n",
      " [0 0 0 0 0 0 0 0 0 0 0 0]\n",
      " [0 0 0 1 0 1 0 0 0 0 0 0]\n",
      " [0 0 1 0 0 1 0 0 0 0 0 0]\n",
      " [0 0 0 0 0 0 0 0 0 0 0 0]\n",
      " [0 0 0 0 1 0 0 0 1 1 1 0]\n",
      " [0 0 0 1 1 1 1 1 0 0 1 0]\n",
      " [0 0 0 0 0 1 0 0 0 0 0 0]\n",
      " [0 0 0 0 0 0 0 0 0 0 0 0]\n",
      " [0 0 0 1 0 1 0 1 0 1 1 0]\n",
      " [0 0 0 0 0 0 0 0 0 0 0 0]\n",
      " [0 0 0 0 0 0 0 0 0 0 0 0]]\n",
      "-----------------\n",
      "[[0 0 0 0 0 0 0 0 0 0 0 0]\n",
      " [0 0 0 0 0 0 0 0 0 0 0 0]\n",
      " [0 0 0 0 1 0 0 0 0 0 0 0]\n",
      " [0 0 0 0 1 0 0 0 0 0 0 0]\n",
      " [0 0 0 0 0 0 0 0 0 1 0 0]\n",
      " [0 0 0 1 1 0 1 1 1 1 1 0]\n",
      " [0 0 0 1 0 0 1 1 1 0 1 0]\n",
      " [0 0 0 0 0 1 0 0 0 0 0 0]\n",
      " [0 0 0 0 1 0 1 0 0 0 0 0]\n",
      " [0 0 0 0 0 0 0 0 0 0 0 0]\n",
      " [0 0 0 0 0 0 0 0 0 0 0 0]\n",
      " [0 0 0 0 0 0 0 0 0 0 0 0]]\n",
      "-----------------\n",
      "[[0 0 0 0 0 0 0 0 0 0 0 0]\n",
      " [0 0 0 0 0 0 0 0 0 0 0 0]\n",
      " [0 0 0 0 0 0 0 0 0 0 0 0]\n",
      " [0 0 0 0 0 0 0 0 0 0 0 0]\n",
      " [0 0 0 1 1 1 0 1 0 1 1 0]\n",
      " [0 0 0 1 1 1 1 0 0 0 1 0]\n",
      " [0 0 0 1 0 0 0 0 0 0 1 0]\n",
      " [0 0 0 0 1 1 0 0 0 0 0 0]\n",
      " [0 0 0 0 0 1 0 0 0 0 0 0]\n",
      " [0 0 0 0 0 0 0 0 0 0 0 0]\n",
      " [0 0 0 0 0 0 0 0 0 0 0 0]\n",
      " [0 0 0 0 0 0 0 0 0 0 0 0]]\n",
      "-----------------\n",
      "[[0 0 0 0 0 0 0 0 0 0 0 0]\n",
      " [0 0 0 0 0 0 0 0 0 0 0 0]\n",
      " [0 0 0 0 0 0 0 0 0 0 0 0]\n",
      " [0 0 0 0 1 0 0 0 0 0 0 0]\n",
      " [0 0 0 1 0 0 0 0 0 1 1 0]\n",
      " [0 0 1 0 0 0 1 0 0 0 1 0]\n",
      " [0 0 0 1 0 0 1 0 0 0 0 0]\n",
      " [0 0 0 0 1 1 0 0 0 0 0 0]\n",
      " [0 0 0 0 1 1 0 0 0 0 0 0]\n",
      " [0 0 0 0 0 0 0 0 0 0 0 0]\n",
      " [0 0 0 0 0 0 0 0 0 0 0 0]\n",
      " [0 0 0 0 0 0 0 0 0 0 0 0]]\n",
      "-----------------\n",
      "[[0 0 0 0 0 0 0 0 0 0 0 0]\n",
      " [0 0 0 0 0 0 0 0 0 0 0 0]\n",
      " [0 0 0 0 0 0 0 0 0 0 0 0]\n",
      " [0 0 0 0 0 0 0 0 0 0 0 0]\n",
      " [0 0 0 1 0 0 0 0 0 1 1 0]\n",
      " [0 0 1 1 0 0 0 0 0 1 1 0]\n",
      " [0 0 0 1 1 0 1 0 0 0 0 0]\n",
      " [0 0 0 1 0 0 1 0 0 0 0 0]\n",
      " [0 0 0 0 1 1 0 0 0 0 0 0]\n",
      " [0 0 0 0 0 0 0 0 0 0 0 0]\n",
      " [0 0 0 0 0 0 0 0 0 0 0 0]\n",
      " [0 0 0 0 0 0 0 0 0 0 0 0]]\n",
      "-----------------\n"
     ]
    }
   ],
   "source": [
    "import numpy as np\n",
    "\n",
    "a = np.random.randint(2 , size=(10,10))\n",
    "a = np.pad(a , (1,1) , \"constant\")\n",
    "\n",
    "\n",
    "for _ in range(10):\n",
    "    \n",
    "    print(a)\n",
    "    print(\"-----------------\")\n",
    "    \n",
    "    b = np.zeros_like(a)\n",
    "    \n",
    "    for i in range(1,a.shape[0]-1) :\n",
    "        for j in range(1,a.shape[1]-1):\n",
    "            count = np.count_nonzero(a[i-1 : i+2 , j-1 : j+2])\n",
    "            if a[i,j] :\n",
    "                if count<3 or count>4 :\n",
    "                    b[i,j]=0\n",
    "                else:\n",
    "                    b[i,j]=1\n",
    "            else :\n",
    "                if count==3 :\n",
    "                    b[i,j]=1\n",
    "                    \n",
    "    a = np.copy(b)\n",
    "                \n",
    "    "
   ]
  },
  {
   "cell_type": "markdown",
   "metadata": {},
   "source": [
    "# Final Task \n",
    "## Implement edge detection using a Sobel Filter\n",
    "Read more about Sobel filter : [Wikipedia article](https://en.wikipedia.org/wiki/Sobel_operator \"Sobel Operator\")\n",
    "Some sample code to display the results is already given\n",
    "\n"
   ]
  },
  {
   "cell_type": "code",
   "execution_count": 8,
   "metadata": {},
   "outputs": [
    {
     "data": {
      "image/png": "[encoded data removed]",
      "text/plain": [
       "<Figure size 432x288 with 4 Axes>"
      ]
     },
     "metadata": {
      "needs_background": "light"
     },
     "output_type": "display_data"
    }
   ],
   "source": [
    "%matplotlib inline\n",
    "# Note: DO NOT USE THE SCIPY INBUILT FUNCTION. CONVOLVE USING FILTERS AND NORMALIZE\n",
    "import scipy\n",
    "import imageio\n",
    "import matplotlib.pyplot as plt\n",
    "import numpy as np\n",
    "\n",
    "im = imageio.imread('./fig01.jpg').astype(\"int32\")\n",
    "grey_img = None \n",
    "\n",
    "if(len(im.shape)==3) :\n",
    "    grey_img = np.zeroes((im.shape[0] , im.shape[1]) , dtype=np.float)\n",
    "    for i in range(im.shape[0]) :\n",
    "        for j in range(im.shape[1]) :\n",
    "            grey_img[i,j] = np.dot( im[i , j , :] , [0.2989 , 0.5870 , 0.1140] )\n",
    "    im = np.copy(grey_img)\n",
    "\n",
    "#grey_shape = list(im.shape)\n",
    "#grey_shape[-1] = 1\n",
    "#grey_shape = tuple(grey_shape)\n",
    "\n",
    "#assert grey_img.shape == grey_shape\n",
    "ax1 = plt.subplot(323)\n",
    "ax2 = plt.subplot(322)\n",
    "ax3 = plt.subplot(324)\n",
    "ax4 = plt.subplot(326)\n",
    "\n",
    "## Initializing the sobel filter\n",
    "filterx = np.array([[3, 0 ,-3],\n",
    "                      [10 , 0 , -10],\n",
    "                      [3, 0 ,-3]])\n",
    "filtery = filterx.T\n",
    "\n",
    "## Fill the code below\n",
    "filterx = np.fliplr(np.flipud(filterx))\n",
    "filtery = np.fliplr(np.flipud(filtery))\n",
    "\n",
    "padim = np.pad(im , (2,2) , \"constant\")\n",
    "\n",
    "gx=np.zeros_like(im)\n",
    "gy=np.zeros_like(im)\n",
    "\n",
    "for i in range(2,padim.shape[0]-2) :\n",
    "    for j in range(2,padim.shape[1]-2) :\n",
    "        gx[i-2,j-2] = np.sum(filterx * padim[i-2 : i+1 , j-2 : j+1])\n",
    "        gy[i-2,j-2] = np.sum(filtery * padim[i-2 : i+1 , j-2 : j+1])\n",
    "\n",
    "dx = gx\n",
    "dy = gy\n",
    "mag =  np.sqrt(gx*gx + gy*gy)\n",
    "normalized =  mag/float(np.max(mag))\n",
    "\n",
    "## End\n",
    "## Plot it\n",
    "ax1.imshow(im)\n",
    "ax2.imshow(dx)\n",
    "ax3.imshow(dy)\n",
    "ax4.imshow(normalized)\n",
    "plt.show()"
   ]
  },
  {
   "cell_type": "markdown",
   "metadata": {},
   "source": [
    "# All Done?\n",
    "## Checkout these advanced guides\n",
    "\n",
    "### [Advanced Numpy](https://scipy-lectures.org/advanced/advanced_numpy/index.html)\n",
    "### [Image Processing](https://scipy-lectures.org/advanced/image_processing/index.html)"
   ]
  },
  {
   "cell_type": "code",
   "execution_count": null,
   "metadata": {},
   "outputs": [],
   "source": []
  }
 ],
 "metadata": {
  "kernelspec": {
   "display_name": "Python 3",
   "language": "python",
   "name": "python3"
  },
  "language_info": {
   "codemirror_mode": {
    "name": "ipython",
    "version": 3
   },
   "file_extension": ".py",
   "mimetype": "text/x-python",
   "name": "python",
   "nbconvert_exporter": "python",
   "pygments_lexer": "ipython3",
   "version": "3.6.7"
  }
 },
 "nbformat": 4,
 "nbformat_minor": 2
}
